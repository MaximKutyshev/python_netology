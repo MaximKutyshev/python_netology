{
 "cells": [
  {
   "cell_type": "markdown",
   "metadata": {},
   "source": [
    "# Случайные события. Случайные величины"
   ]
  },
  {
   "cell_type": "markdown",
   "metadata": {},
   "source": [
    "### Задание"
   ]
  },
  {
   "cell_type": "markdown",
   "metadata": {},
   "source": [
    "Смоделировать игру против лотерейного автомата типа “777”. Игрок платит 1 руб., после чего выпадает случайное целое число, равномерно распределенное от 0 до 999. При некоторых значениях числа игрок получает выигрыш (см. справа)\n",
    "\n",
    "Выгодна ли игра игроку?\n",
    "\n",
    "Сколько в среднем приобретает\n",
    "или теряет игрок за одну игру?\n",
    "\n",
    "* 777: 200 руб.\n",
    "* 999: 100 руб.\n",
    "* 555: 50 руб.\n",
    "* 333: 15 руб.\n",
    "* 111: 10 руб.\n",
    "* *77: 5 руб.\n",
    "* **7: 3 руб.\n",
    "* *00: 2 руб.\n",
    "* **0: 1 руб.\n",
    "\n"
   ]
  },
  {
   "cell_type": "code",
   "execution_count": 40,
   "metadata": {},
   "outputs": [],
   "source": [
    "import numpy as np"
   ]
  },
  {
   "cell_type": "code",
   "execution_count": 60,
   "metadata": {},
   "outputs": [],
   "source": [
    "game_number = 100000000\n",
    "sum_prize = 0"
   ]
  },
  {
   "cell_type": "code",
   "execution_count": 61,
   "metadata": {},
   "outputs": [],
   "source": [
    "for i in range(game_number):\n",
    "    num = np.random.randint(0, 1000)\n",
    "    \n",
    "    if num == 777:\n",
    "        sum_prize += 200\n",
    "    elif num == 999:\n",
    "        sum_prize += 100\n",
    "    elif num == 555:\n",
    "        sum_prize += 50\n",
    "    elif num == 333:\n",
    "        sum_prize += 15\n",
    "    elif num == 111:\n",
    "        sum_prize += 10\n",
    "    \n",
    "    elif num % 100 == 77:\n",
    "        sum_prize += 5\n",
    "        \n",
    "    elif num % 100 == 77:\n",
    "        sum_prize += 5\n",
    "    \n",
    "    elif num % 100 != 77 and num % 10 == 7:\n",
    "        sum_prize += 3\n",
    "    \n",
    "    elif num % 100 == 00:\n",
    "        sum_prize += 2\n",
    "    \n",
    "    elif num % 100 != 00 and num % 10 == 0:\n",
    "        sum_prize += 1"
   ]
  },
  {
   "cell_type": "code",
   "execution_count": 62,
   "metadata": {},
   "outputs": [],
   "source": [
    "res = sum_prize / game_number"
   ]
  },
  {
   "cell_type": "code",
   "execution_count": 63,
   "metadata": {},
   "outputs": [
    {
     "data": {
      "text/plain": [
       "0.80019644"
      ]
     },
     "execution_count": 63,
     "metadata": {},
     "output_type": "execute_result"
    }
   ],
   "source": [
    "res"
   ]
  },
  {
   "cell_type": "markdown",
   "metadata": {},
   "source": [
    "Рассчитаем теоретическое значение"
   ]
  },
  {
   "cell_type": "code",
   "execution_count": null,
   "metadata": {},
   "outputs": [],
   "source": [
    "p_777 = 1\n",
    "p_999 = 1\n",
    "p_555 = 1\n",
    "p_333 = 1\n",
    "p_111 = 1\n",
    "p__77 = 10\n",
    "p___7 = 90\n",
    "p__00 = 10\n",
    "p___0 = 90"
   ]
  },
  {
   "cell_type": "code",
   "execution_count": 59,
   "metadata": {},
   "outputs": [
    {
     "data": {
      "text/plain": [
       "0.805"
      ]
     },
     "execution_count": 59,
     "metadata": {},
     "output_type": "execute_result"
    }
   ],
   "source": [
    "avr = ((200 * 1 / 1000) + (100 * 1 / 1000) + (50 * 1 / 1000) +  (15 * 1 / 1000) + (10 * 1 / 1000) + (5 * 10 / 1000)\n",
    "       + (3 * 90 / 1000) + (2 * 10 / 1000) + (1 * 90 / 1000)) \n",
    "avr"
   ]
  },
  {
   "cell_type": "markdown",
   "metadata": {},
   "source": [
    "#### Вывод"
   ]
  },
  {
   "cell_type": "markdown",
   "metadata": {},
   "source": [
    "Так как avr < цены игры, то игра не выгодна игроку"
   ]
  }
 ],
 "metadata": {
  "kernelspec": {
   "display_name": "Python 3",
   "language": "python",
   "name": "python3"
  },
  "language_info": {
   "codemirror_mode": {
    "name": "ipython",
    "version": 3
   },
   "file_extension": ".py",
   "mimetype": "text/x-python",
   "name": "python",
   "nbconvert_exporter": "python",
   "pygments_lexer": "ipython3",
   "version": "3.8.5"
  }
 },
 "nbformat": 4,
 "nbformat_minor": 4
}
