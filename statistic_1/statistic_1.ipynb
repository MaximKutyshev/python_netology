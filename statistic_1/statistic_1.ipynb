{
 "cells": [
  {
   "cell_type": "markdown",
   "metadata": {},
   "source": [
    "# Базовые понятия статистики "
   ]
  },
  {
   "cell_type": "code",
   "execution_count": 1,
   "metadata": {},
   "outputs": [],
   "source": [
    "import pandas as pd\n",
    "import numpy as np"
   ]
  },
  {
   "cell_type": "code",
   "execution_count": 2,
   "metadata": {},
   "outputs": [],
   "source": [
    "df_list = []"
   ]
  },
  {
   "cell_type": "code",
   "execution_count": 3,
   "metadata": {},
   "outputs": [],
   "source": [
    "with open ('/Users/maksim/Desktop/supreme-memory/практика_и_дз/horse_data.csv', 'r') as file:\n",
    "    for horse in file:\n",
    "        df_list.append(horse.split(','))"
   ]
  },
  {
   "cell_type": "code",
   "execution_count": 4,
   "metadata": {},
   "outputs": [
    {
     "data": {
      "text/plain": [
       "array([['2', '1', '530101', ..., '00000', '00000', '2\\n'],\n",
       "       ['1', '1', '534817', ..., '00000', '00000', '2\\n'],\n",
       "       ['2', '1', '530334', ..., '00000', '00000', '1\\n'],\n",
       "       ...,\n",
       "       ['1', '1', '529386', ..., '00000', '00000', '2\\n'],\n",
       "       ['1', '1', '530612', ..., '00000', '00000', '1\\n'],\n",
       "       ['1', '1', '534618', ..., '00000', '00000', '2']], dtype='<U7')"
      ]
     },
     "execution_count": 4,
     "metadata": {},
     "output_type": "execute_result"
    }
   ],
   "source": [
    "np.array(df_list)"
   ]
  },
  {
   "cell_type": "code",
   "execution_count": 5,
   "metadata": {},
   "outputs": [],
   "source": [
    "df = pd.DataFrame(np.array(df_list))\n",
    "df.columns = ['surgery?', 'Age', 'Hospital Number', 'rectal temperature', 'pulse', 'respiratory rate', \n",
    "                'temperature of extremities', 'peripheral pulse', 'mucous membranes', 'capillary refill time', \n",
    "               'pain', 'peristalsis', 'abdominal distension', 'nasogastric tube', 'nasogastric reflux', \n",
    "               'nasogastric reflux PH', 'rectal examination - feces', 'abdomen', 'packed cell volume',\n",
    "               'total protein', 'abdominocentesis appearance', 'abdomcentesis total protein', 'outcome', \n",
    "                'surgical lesion?', 'first number is site of lesion', 'second number is type', 'third number is subtype',\n",
    "               'cp_data']"
   ]
  },
  {
   "cell_type": "markdown",
   "metadata": {},
   "source": [
    "### Операции"
   ]
  },
  {
   "cell_type": "code",
   "execution_count": 6,
   "metadata": {},
   "outputs": [
    {
     "data": {
      "text/plain": [
       "array(['2', '1', '?'], dtype=object)"
      ]
     },
     "execution_count": 6,
     "metadata": {},
     "output_type": "execute_result"
    }
   ],
   "source": [
    "df['surgery?'].unique()"
   ]
  },
  {
   "cell_type": "code",
   "execution_count": 7,
   "metadata": {},
   "outputs": [
    {
     "data": {
      "text/plain": [
       "'1'"
      ]
     },
     "execution_count": 7,
     "metadata": {},
     "output_type": "execute_result"
    }
   ],
   "source": [
    "df['surgery?'].mode()[0]"
   ]
  },
  {
   "cell_type": "code",
   "execution_count": 8,
   "metadata": {},
   "outputs": [
    {
     "data": {
      "text/html": [
       "<div>\n",
       "<style scoped>\n",
       "    .dataframe tbody tr th:only-of-type {\n",
       "        vertical-align: middle;\n",
       "    }\n",
       "\n",
       "    .dataframe tbody tr th {\n",
       "        vertical-align: top;\n",
       "    }\n",
       "\n",
       "    .dataframe thead th {\n",
       "        text-align: right;\n",
       "    }\n",
       "</style>\n",
       "<table border=\"1\" class=\"dataframe\">\n",
       "  <thead>\n",
       "    <tr style=\"text-align: right;\">\n",
       "      <th></th>\n",
       "      <th>surgery?</th>\n",
       "      <th>Age</th>\n",
       "      <th>Hospital Number</th>\n",
       "      <th>rectal temperature</th>\n",
       "      <th>pulse</th>\n",
       "      <th>respiratory rate</th>\n",
       "      <th>temperature of extremities</th>\n",
       "      <th>peripheral pulse</th>\n",
       "      <th>mucous membranes</th>\n",
       "      <th>capillary refill time</th>\n",
       "      <th>...</th>\n",
       "      <th>packed cell volume</th>\n",
       "      <th>total protein</th>\n",
       "      <th>abdominocentesis appearance</th>\n",
       "      <th>abdomcentesis total protein</th>\n",
       "      <th>outcome</th>\n",
       "      <th>surgical lesion?</th>\n",
       "      <th>first number is site of lesion</th>\n",
       "      <th>second number is type</th>\n",
       "      <th>third number is subtype</th>\n",
       "      <th>cp_data</th>\n",
       "    </tr>\n",
       "  </thead>\n",
       "  <tbody>\n",
       "    <tr>\n",
       "      <th>132</th>\n",
       "      <td>?</td>\n",
       "      <td>1</td>\n",
       "      <td>534572</td>\n",
       "      <td>38.0</td>\n",
       "      <td>48</td>\n",
       "      <td>20</td>\n",
       "      <td>3</td>\n",
       "      <td>1</td>\n",
       "      <td>3</td>\n",
       "      <td>1</td>\n",
       "      <td>...</td>\n",
       "      <td>43</td>\n",
       "      <td>73</td>\n",
       "      <td>2</td>\n",
       "      <td>1</td>\n",
       "      <td>?</td>\n",
       "      <td>1</td>\n",
       "      <td>03111</td>\n",
       "      <td>00000</td>\n",
       "      <td>00000</td>\n",
       "      <td>2\\n</td>\n",
       "    </tr>\n",
       "  </tbody>\n",
       "</table>\n",
       "<p>1 rows × 28 columns</p>\n",
       "</div>"
      ],
      "text/plain": [
       "    surgery? Age Hospital Number rectal temperature pulse respiratory rate  \\\n",
       "132        ?   1          534572               38.0    48               20   \n",
       "\n",
       "    temperature of extremities peripheral pulse mucous membranes  \\\n",
       "132                          3                1                3   \n",
       "\n",
       "    capillary refill time  ... packed cell volume total protein  \\\n",
       "132                     1  ...                 43            73   \n",
       "\n",
       "    abdominocentesis appearance abdomcentesis total protein outcome  \\\n",
       "132                           2                           1       ?   \n",
       "\n",
       "    surgical lesion? first number is site of lesion second number is type  \\\n",
       "132                1                          03111                 00000   \n",
       "\n",
       "    third number is subtype cp_data  \n",
       "132                   00000     2\\n  \n",
       "\n",
       "[1 rows x 28 columns]"
      ]
     },
     "execution_count": 8,
     "metadata": {},
     "output_type": "execute_result"
    }
   ],
   "source": [
    "df[df['surgery?'] == '?']\n",
    "\n",
    "#Так как у нас пропущенно только одно значение. На основе предположения, что владельцу выгоднее \n",
    "#не сообщать о том, была ли операция у лошади и моды имеющихся значений  будем заменять это значение на '1'."
   ]
  },
  {
   "cell_type": "code",
   "execution_count": 9,
   "metadata": {},
   "outputs": [
    {
     "data": {
      "text/plain": [
       "array(['2', '1'], dtype=object)"
      ]
     },
     "execution_count": 9,
     "metadata": {},
     "output_type": "execute_result"
    }
   ],
   "source": [
    "df['surgery?'][df['surgery?'] == '?'] = '1'\n",
    "df['surgery?'].unique()"
   ]
  },
  {
   "cell_type": "markdown",
   "metadata": {},
   "source": [
    "### Возраст"
   ]
  },
  {
   "cell_type": "code",
   "execution_count": 10,
   "metadata": {},
   "outputs": [
    {
     "data": {
      "text/plain": [
       "array(['1', '9'], dtype=object)"
      ]
     },
     "execution_count": 10,
     "metadata": {},
     "output_type": "execute_result"
    }
   ],
   "source": [
    "df['Age'].unique()\n",
    "\n",
    "# Согласно документации, для возраста характерны значения \"1\", \"2\", поэтому все \"9\" заменим на \"2\""
   ]
  },
  {
   "cell_type": "code",
   "execution_count": 11,
   "metadata": {},
   "outputs": [
    {
     "data": {
      "text/plain": [
       "array(['1', '2'], dtype=object)"
      ]
     },
     "execution_count": 11,
     "metadata": {},
     "output_type": "execute_result"
    }
   ],
   "source": [
    "df['Age'][df['Age'] == '9'] = '2'\n",
    "df['Age'].unique()"
   ]
  },
  {
   "cell_type": "markdown",
   "metadata": {},
   "source": [
    "### Hospital Number"
   ]
  },
  {
   "cell_type": "code",
   "execution_count": 12,
   "metadata": {},
   "outputs": [
    {
     "data": {
      "text/plain": [
       "array(['530101', '534817', '530334', '5290409', '530255', '528355',\n",
       "       '526802', '529607', '530051', '5299629', '528548', '527927',\n",
       "       '528031', '5291329', '534917', '530233', '5301219', '526639',\n",
       "       '5290481', '532110', '530157', '529340', '521681', '534998',\n",
       "       '533692', '529518', '530526', '528653', '5279442', '535415',\n",
       "       '529475', '530242', '529427', '529663', '529796', '528812',\n",
       "       '529493', '533847', '528996', '5277409', '529498', '5288249',\n",
       "       '530301', '534069', '535407', '529827', '529888', '529821',\n",
       "       '528890', '529642', '529766', '527706', '529483', '530544',\n",
       "       '529461', '5282839', '528872', '529640', '528298', '528904',\n",
       "       '530438', '527957', '528630', '534293', '529667', '534885',\n",
       "       '534784', '528931', '529777', '530276', '528214', '529424',\n",
       "       '5299253', '528469', '5292929', '534092', '534615', '534753',\n",
       "       '530693', '527463', '527518', '534756', '5290759', '5279822',\n",
       "       '529849', '529304', '529388', '528006', '529703', '535381',\n",
       "       '534197', '530251', '530310', '528729', '535158', '530319',\n",
       "       '534145', '534135', '530002', '535364', '534899', '534938',\n",
       "       '5292489', '527563', '530381', '528668', '529764', '533696',\n",
       "       '5297379', '527544', '533736', '534963', '527933', '532349',\n",
       "       '533723', '535208', '5290482', '533983', '535166', '528682',\n",
       "       '534556', '534579', '530360', '529840', '528461', '530384',\n",
       "       '5262541', '535330', '527698', '528964', '530670', '534572',\n",
       "       '530294', '527524', '5287179', '534324', '534491', '529960',\n",
       "       '522979', '530402', '534519', '535246', '534115', '530001',\n",
       "       '529272', '535314', '533793', '529399', '533836', '528804',\n",
       "       '535163', '528247', '533928', '528248', '528134', '527916',\n",
       "       '530431', '535176', '533942', '528523', '534925', '528299',\n",
       "       '530254', '535085', '532985', '527677', '535292', '529729',\n",
       "       '518476', '527929', '535130', '523190', '533968', '528151',\n",
       "       '530239', '528305', '534857', '534053', '534833', '5278331',\n",
       "       '527365', '533887', '5299603', '528742', '5287279', '534788',\n",
       "       '529373', '534163', '533697', '529628', '521399', '533885',\n",
       "       '534157', '528047', '528641', '534073', '529685', '529528',\n",
       "       '535137', '530297', '535338', '534478', '530401', '529893',\n",
       "       '5294369', '528183', '529183', '529135', '528977', '5279441',\n",
       "       '535240', '529736', '535029', '535031', '528800', '528178',\n",
       "       '535392', '528503', '5289419', '535196', '534597', '534280',\n",
       "       '530028', '5262543', '528179', '533750', '528702', '534183',\n",
       "       '529160', '529045', '530354', '5281091', '5291409', '530366',\n",
       "       '530170', '527709', '528169', '535043', '527940', '5291719',\n",
       "       '530561', '533738', '5294539', '533871', '529812', '534719',\n",
       "       '527734', '534933', '529296', '5305629', '528743', '530478',\n",
       "       '528590', '529865', '527829', '534403', '527883', '528570',\n",
       "       '534626', '528638', '534624', '5297159', '534787', '528620',\n",
       "       '528019', '529172', '534644', '530624', '527758', '530439',\n",
       "       '5283431', '5275212', '5305129', '529428', '529126', '535054',\n",
       "       '530034', '534004', '533902', '533886', '527702', '529386',\n",
       "       '530612', '534618'], dtype=object)"
      ]
     },
     "execution_count": 12,
     "metadata": {},
     "output_type": "execute_result"
    }
   ],
   "source": [
    "df['Hospital Number'].unique()\n",
    "\n",
    "# Странных значений нет"
   ]
  },
  {
   "cell_type": "markdown",
   "metadata": {},
   "source": [
    "### rectal temperature"
   ]
  },
  {
   "cell_type": "code",
   "execution_count": 13,
   "metadata": {},
   "outputs": [
    {
     "data": {
      "text/plain": [
       "array(['38.50', '39.2', '38.30', '39.10', '37.30', '?', '37.90', '38.10',\n",
       "       '37.20', '38.00', '38.2', '37.60', '37.50', '39.4', '39.90',\n",
       "       '38.40', '38.60', '38.3', '38.1', '37.80', '37.7', '37.70',\n",
       "       '38.20', '37.8', '39.20', '39.00', '35.4', '38.90', '37.40',\n",
       "       '40.30', '37.9', '37.00', '39.7', '37.6', '38.7', '36.40', '37.3',\n",
       "       '38.0', '38.80', '39.60', '36.80', '38.4', '39.50', '36.5',\n",
       "       '39.40', '38.70', '37.4', '38', '36.00', '37.1', '38.9', '39.30',\n",
       "       '38.8', '39.5', '37.5', '38.5', '37.10', '36.10', '39.3', '36.60',\n",
       "       '40.80', '36.90', '38.6', '40.00', '36.50', '37.2'], dtype=object)"
      ]
     },
     "execution_count": 13,
     "metadata": {},
     "output_type": "execute_result"
    }
   ],
   "source": [
    "df['rectal temperature'].unique()"
   ]
  },
  {
   "cell_type": "code",
   "execution_count": 14,
   "metadata": {},
   "outputs": [],
   "source": [
    "df['rectal temperature'][df['rectal temperature'] == '?'] = np.nan"
   ]
  },
  {
   "cell_type": "code",
   "execution_count": 15,
   "metadata": {},
   "outputs": [
    {
     "data": {
      "text/plain": [
       "0    38.00\n",
       "dtype: object"
      ]
     },
     "execution_count": 15,
     "metadata": {},
     "output_type": "execute_result"
    }
   ],
   "source": [
    "df['rectal temperature'].mode()"
   ]
  },
  {
   "cell_type": "code",
   "execution_count": 16,
   "metadata": {},
   "outputs": [],
   "source": [
    "df['rectal temperature'].fillna(df['rectal temperature'].mode()[0], inplace = True)"
   ]
  },
  {
   "cell_type": "code",
   "execution_count": 17,
   "metadata": {},
   "outputs": [
    {
     "data": {
      "text/plain": [
       "array(['38.50', '39.2', '38.30', '39.10', '37.30', '38.00', '37.90',\n",
       "       '38.10', '37.20', '38.2', '37.60', '37.50', '39.4', '39.90',\n",
       "       '38.40', '38.60', '38.3', '38.1', '37.80', '37.7', '37.70',\n",
       "       '38.20', '37.8', '39.20', '39.00', '35.4', '38.90', '37.40',\n",
       "       '40.30', '37.9', '37.00', '39.7', '37.6', '38.7', '36.40', '37.3',\n",
       "       '38.0', '38.80', '39.60', '36.80', '38.4', '39.50', '36.5',\n",
       "       '39.40', '38.70', '37.4', '38', '36.00', '37.1', '38.9', '39.30',\n",
       "       '38.8', '39.5', '37.5', '38.5', '37.10', '36.10', '39.3', '36.60',\n",
       "       '40.80', '36.90', '38.6', '40.00', '36.50', '37.2'], dtype=object)"
      ]
     },
     "execution_count": 17,
     "metadata": {},
     "output_type": "execute_result"
    }
   ],
   "source": [
    "df['rectal temperature'].unique()"
   ]
  },
  {
   "cell_type": "markdown",
   "metadata": {},
   "source": [
    "### pulse"
   ]
  },
  {
   "cell_type": "code",
   "execution_count": 18,
   "metadata": {},
   "outputs": [
    {
     "data": {
      "text/plain": [
       "array(['66', '88', '40', '164', '104', '?', '48', '60', '80', '90', '72',\n",
       "       '42', '92', '76', '96', '128', '64', '110', '130', '108', '100',\n",
       "       '112', '52', '146', '150', '120', '140', '84', '46', '114', '160',\n",
       "       '54', '56', '38', '98', '50', '44', '70', '78', '49', '30', '136',\n",
       "       '132', '65', '86', '129', '68', '36', '45', '124', '184', '75',\n",
       "       '82'], dtype=object)"
      ]
     },
     "execution_count": 18,
     "metadata": {},
     "output_type": "execute_result"
    }
   ],
   "source": [
    "df['pulse'].unique()"
   ]
  },
  {
   "cell_type": "code",
   "execution_count": 19,
   "metadata": {},
   "outputs": [],
   "source": [
    "df['pulse'][df['pulse'] == '?'] = np.nan"
   ]
  },
  {
   "cell_type": "code",
   "execution_count": 20,
   "metadata": {},
   "outputs": [],
   "source": [
    "df['pulse'] = df['pulse'].astype('float64')"
   ]
  },
  {
   "cell_type": "code",
   "execution_count": 21,
   "metadata": {},
   "outputs": [
    {
     "data": {
      "text/plain": [
       "peripheral pulse\n",
       "1    58.0\n",
       "2    59.0\n",
       "3    88.0\n",
       "4    91.0\n",
       "?    71.0\n",
       "Name: pulse, dtype: float64"
      ]
     },
     "execution_count": 21,
     "metadata": {},
     "output_type": "execute_result"
    }
   ],
   "source": [
    "np.round(df.groupby('peripheral pulse')['pulse'].mean())"
   ]
  },
  {
   "cell_type": "code",
   "execution_count": 22,
   "metadata": {},
   "outputs": [],
   "source": [
    "df['pulse'].fillna(np.round(df.groupby('peripheral pulse')['pulse'].transform('mean')), inplace = True)"
   ]
  },
  {
   "cell_type": "code",
   "execution_count": 23,
   "metadata": {},
   "outputs": [
    {
     "data": {
      "text/plain": [
       "array([ 66.,  88.,  40., 164., 104.,  58.,  48.,  60.,  80.,  90.,  72.,\n",
       "        42.,  92.,  76.,  96., 128.,  64., 110., 130.,  71., 108., 100.,\n",
       "       112.,  52., 146., 150., 120., 140.,  84.,  46., 114., 160.,  54.,\n",
       "        56.,  38.,  98.,  50.,  44.,  70.,  78.,  49.,  30., 136., 132.,\n",
       "        65.,  86., 129.,  91.,  68.,  36.,  45., 124., 184.,  75.,  82.])"
      ]
     },
     "execution_count": 23,
     "metadata": {},
     "output_type": "execute_result"
    }
   ],
   "source": [
    "df['pulse'].unique()"
   ]
  },
  {
   "cell_type": "markdown",
   "metadata": {},
   "source": [
    "### respiratory rate"
   ]
  },
  {
   "cell_type": "code",
   "execution_count": 24,
   "metadata": {},
   "outputs": [
    {
     "data": {
      "text/plain": [
       "array(['28', '20', '24', '84', '35', '?', '16', '36', '12', '52', '48',\n",
       "       '21', '60', '34', '42', '30', '96', '72', '15', '44', '32', '22',\n",
       "       '18', '80', '40', '10', '51', '68', '66', '9', '14', '90', '8',\n",
       "       '23', '58', '13', '70', '26', '88', '25', '50'], dtype=object)"
      ]
     },
     "execution_count": 24,
     "metadata": {},
     "output_type": "execute_result"
    }
   ],
   "source": [
    "df['respiratory rate'].unique()"
   ]
  },
  {
   "cell_type": "code",
   "execution_count": 27,
   "metadata": {},
   "outputs": [
    {
     "name": "stderr",
     "output_type": "stream",
     "text": [
      "<ipython-input-27-313f0816ff27>:1: SettingWithCopyWarning: \n",
      "A value is trying to be set on a copy of a slice from a DataFrame\n",
      "\n",
      "See the caveats in the documentation: https://pandas.pydata.org/pandas-docs/stable/user_guide/indexing.html#returning-a-view-versus-a-copy\n",
      "  df['respiratory rate'][df['respiratory rate'] == '?'] = np.nan\n"
     ]
    }
   ],
   "source": [
    "df['respiratory rate'][df['respiratory rate'] == '?'] = np.nan\n",
    "df['respiratory rate'] = df['respiratory rate'].astype('float64') "
   ]
  },
  {
   "cell_type": "code",
   "execution_count": 28,
   "metadata": {},
   "outputs": [
    {
     "data": {
      "text/plain": [
       "0      28.238739\n",
       "1      28.238739\n",
       "2      28.238739\n",
       "3      54.600000\n",
       "4      28.238739\n",
       "         ...    \n",
       "295    28.238739\n",
       "296    28.238739\n",
       "297    28.238739\n",
       "298    28.238739\n",
       "299    28.238739\n",
       "Name: respiratory rate, Length: 300, dtype: float64"
      ]
     },
     "execution_count": 28,
     "metadata": {},
     "output_type": "execute_result"
    }
   ],
   "source": [
    "df.groupby('Age')['respiratory rate'].transform('mean')"
   ]
  },
  {
   "cell_type": "code",
   "execution_count": 29,
   "metadata": {},
   "outputs": [],
   "source": [
    "df['respiratory rate'].fillna(np.round(df.groupby('Age')['respiratory rate'].transform('mean')), inplace = True)"
   ]
  },
  {
   "cell_type": "code",
   "execution_count": 30,
   "metadata": {},
   "outputs": [
    {
     "data": {
      "text/plain": [
       "array([28., 20., 24., 84., 35., 16., 36., 55., 12., 52., 48., 21., 60.,\n",
       "       34., 42., 30., 96., 72., 15., 44., 32., 22., 18., 80., 40., 10.,\n",
       "       51., 68., 66.,  9., 14., 90.,  8., 23., 58., 13., 70., 26., 88.,\n",
       "       25., 50.])"
      ]
     },
     "execution_count": 30,
     "metadata": {},
     "output_type": "execute_result"
    }
   ],
   "source": [
    "df['respiratory rate'].unique()"
   ]
  },
  {
   "cell_type": "markdown",
   "metadata": {},
   "source": [
    "### outcome"
   ]
  },
  {
   "cell_type": "code",
   "execution_count": 31,
   "metadata": {},
   "outputs": [
    {
     "data": {
      "text/plain": [
       "array(['2', '3', '1', '?'], dtype=object)"
      ]
     },
     "execution_count": 31,
     "metadata": {},
     "output_type": "execute_result"
    }
   ],
   "source": [
    "df['outcome'].unique()"
   ]
  },
  {
   "cell_type": "code",
   "execution_count": 32,
   "metadata": {},
   "outputs": [
    {
     "data": {
      "text/plain": [
       "'1'"
      ]
     },
     "execution_count": 32,
     "metadata": {},
     "output_type": "execute_result"
    }
   ],
   "source": [
    "df['outcome'].mode()[0]"
   ]
  },
  {
   "cell_type": "code",
   "execution_count": 33,
   "metadata": {},
   "outputs": [
    {
     "data": {
      "text/plain": [
       "1    178\n",
       "2     77\n",
       "3     44\n",
       "?      1\n",
       "Name: outcome, dtype: int64"
      ]
     },
     "execution_count": 33,
     "metadata": {},
     "output_type": "execute_result"
    }
   ],
   "source": [
    "df['outcome'].value_counts()"
   ]
  },
  {
   "cell_type": "code",
   "execution_count": 34,
   "metadata": {},
   "outputs": [
    {
     "name": "stderr",
     "output_type": "stream",
     "text": [
      "<ipython-input-34-c7e271e559e5>:1: SettingWithCopyWarning: \n",
      "A value is trying to be set on a copy of a slice from a DataFrame\n",
      "\n",
      "See the caveats in the documentation: https://pandas.pydata.org/pandas-docs/stable/user_guide/indexing.html#returning-a-view-versus-a-copy\n",
      "  df['outcome'][df['outcome'] == '?'] = '1'\n"
     ]
    },
    {
     "data": {
      "text/plain": [
       "array(['2', '3', '1'], dtype=object)"
      ]
     },
     "execution_count": 34,
     "metadata": {},
     "output_type": "execute_result"
    }
   ],
   "source": [
    "df['outcome'][df['outcome'] == '?'] = '1'\n",
    "df['outcome'].unique()"
   ]
  },
  {
   "cell_type": "markdown",
   "metadata": {},
   "source": [
    "### total protein"
   ]
  },
  {
   "cell_type": "code",
   "execution_count": 36,
   "metadata": {},
   "outputs": [
    {
     "data": {
      "text/plain": [
       "array(['8.40', '85', '6.70', '7.20', '7.40', '?', '7.00', '8.30', '6.20',\n",
       "       '6.00', '7.80', '6.10', '81', '6.80', '8.7', '70', '65', '5.50',\n",
       "       '76', '7.50', '8.20', '6.60', '8.60', '80', '6.50', '8.50', '67',\n",
       "       '69', '9.10', '7.70', '6.40', '8.10', '5.90', '8.00', '82', '72',\n",
       "       '74', '6.30', '7.60', '4.90', '57', '68', '77', '8.90', '5.70',\n",
       "       '4.50', '61', '86', '60', '66', '5.30', '7.30', '64', '58', '56',\n",
       "       '75', '10.2', '62', '7.90', '73', '71', '7.0', '63', '46', '7.2',\n",
       "       '5.80', '53', '4.70', '59', '55', '8.70', '89', '51', '4.00',\n",
       "       '11.00', '8.80', '50', '54', '6.90', '4.60', '13', '7.10', '3.30',\n",
       "       '9.00', '5.00'], dtype=object)"
      ]
     },
     "execution_count": 36,
     "metadata": {},
     "output_type": "execute_result"
    }
   ],
   "source": [
    "df['total protein'].unique()"
   ]
  },
  {
   "cell_type": "code",
   "execution_count": 45,
   "metadata": {},
   "outputs": [
    {
     "name": "stderr",
     "output_type": "stream",
     "text": [
      "<ipython-input-45-1907a8a4f685>:1: SettingWithCopyWarning: \n",
      "A value is trying to be set on a copy of a slice from a DataFrame\n",
      "\n",
      "See the caveats in the documentation: https://pandas.pydata.org/pandas-docs/stable/user_guide/indexing.html#returning-a-view-versus-a-copy\n",
      "  df['total protein'][df['total protein'] == '?'] = np.nan\n"
     ]
    },
    {
     "data": {
      "text/plain": [
       "array([ 8.4, 85. ,  6.7,  7.2,  7.4,  nan,  7. ,  8.3,  6.2,  6. ,  7.8,\n",
       "        6.1, 81. ,  6.8,  8.7, 70. , 65. ,  5.5, 76. ,  7.5,  8.2,  6.6,\n",
       "        8.6, 80. ,  6.5,  8.5, 67. , 69. ,  9.1,  7.7,  6.4,  8.1,  5.9,\n",
       "        8. , 82. , 72. , 74. ,  6.3,  7.6,  4.9, 57. , 68. , 77. ,  8.9,\n",
       "        5.7,  4.5, 61. , 86. , 60. , 66. ,  5.3,  7.3, 64. , 58. , 56. ,\n",
       "       75. , 10.2, 62. ,  7.9, 73. , 71. , 63. , 46. ,  5.8, 53. ,  4.7,\n",
       "       59. , 55. , 89. , 51. ,  4. , 11. ,  8.8, 50. , 54. ,  6.9,  4.6,\n",
       "       13. ,  7.1,  3.3,  9. ,  5. ])"
      ]
     },
     "execution_count": 45,
     "metadata": {},
     "output_type": "execute_result"
    }
   ],
   "source": [
    "df['total protein'][df['total protein'] == '?'] = np.nan\n",
    "df['total protein'] = df['total protein'].astype('float64')\n",
    "df['total protein'].unique()"
   ]
  },
  {
   "cell_type": "code",
   "execution_count": 44,
   "metadata": {},
   "outputs": [
    {
     "data": {
      "text/plain": [
       "Age\n",
       "1    25.437959\n",
       "2    13.531818\n",
       "Name: total protein, dtype: float64"
      ]
     },
     "execution_count": 44,
     "metadata": {},
     "output_type": "execute_result"
    }
   ],
   "source": [
    "df.groupby('Age')['total protein'].mean()"
   ]
  },
  {
   "cell_type": "code",
   "execution_count": 47,
   "metadata": {},
   "outputs": [],
   "source": [
    "df['total protein'].fillna(np.round(df.groupby('Age')['total protein'].transform('mean')), inplace = True)"
   ]
  },
  {
   "cell_type": "code",
   "execution_count": 49,
   "metadata": {},
   "outputs": [
    {
     "data": {
      "text/plain": [
       "25.0    31\n",
       "6.5     15\n",
       "7.0     15\n",
       "7.5     13\n",
       "6.6     11\n",
       "        ..\n",
       "59.0     1\n",
       "53.0     1\n",
       "46.0     1\n",
       "63.0     1\n",
       "85.0     1\n",
       "Name: total protein, Length: 83, dtype: int64"
      ]
     },
     "execution_count": 49,
     "metadata": {},
     "output_type": "execute_result"
    }
   ],
   "source": [
    "df['total protein'].value_counts()"
   ]
  },
  {
   "cell_type": "markdown",
   "metadata": {},
   "source": [
    "## New DataFrame"
   ]
  },
  {
   "cell_type": "code",
   "execution_count": 52,
   "metadata": {},
   "outputs": [
    {
     "data": {
      "text/html": [
       "<div>\n",
       "<style scoped>\n",
       "    .dataframe tbody tr th:only-of-type {\n",
       "        vertical-align: middle;\n",
       "    }\n",
       "\n",
       "    .dataframe tbody tr th {\n",
       "        vertical-align: top;\n",
       "    }\n",
       "\n",
       "    .dataframe thead th {\n",
       "        text-align: right;\n",
       "    }\n",
       "</style>\n",
       "<table border=\"1\" class=\"dataframe\">\n",
       "  <thead>\n",
       "    <tr style=\"text-align: right;\">\n",
       "      <th></th>\n",
       "      <th>Hospital Number</th>\n",
       "      <th>Age</th>\n",
       "      <th>surgery?</th>\n",
       "      <th>rectal temperature</th>\n",
       "      <th>pulse</th>\n",
       "      <th>respiratory rate</th>\n",
       "      <th>total protein</th>\n",
       "      <th>outcome</th>\n",
       "    </tr>\n",
       "  </thead>\n",
       "  <tbody>\n",
       "    <tr>\n",
       "      <th>0</th>\n",
       "      <td>530101</td>\n",
       "      <td>1</td>\n",
       "      <td>2</td>\n",
       "      <td>38.50</td>\n",
       "      <td>66.0</td>\n",
       "      <td>28.0</td>\n",
       "      <td>8.4</td>\n",
       "      <td>2</td>\n",
       "    </tr>\n",
       "    <tr>\n",
       "      <th>1</th>\n",
       "      <td>534817</td>\n",
       "      <td>1</td>\n",
       "      <td>1</td>\n",
       "      <td>39.2</td>\n",
       "      <td>88.0</td>\n",
       "      <td>20.0</td>\n",
       "      <td>85.0</td>\n",
       "      <td>3</td>\n",
       "    </tr>\n",
       "    <tr>\n",
       "      <th>2</th>\n",
       "      <td>530334</td>\n",
       "      <td>1</td>\n",
       "      <td>2</td>\n",
       "      <td>38.30</td>\n",
       "      <td>40.0</td>\n",
       "      <td>24.0</td>\n",
       "      <td>6.7</td>\n",
       "      <td>1</td>\n",
       "    </tr>\n",
       "    <tr>\n",
       "      <th>3</th>\n",
       "      <td>5290409</td>\n",
       "      <td>2</td>\n",
       "      <td>1</td>\n",
       "      <td>39.10</td>\n",
       "      <td>164.0</td>\n",
       "      <td>84.0</td>\n",
       "      <td>7.2</td>\n",
       "      <td>2</td>\n",
       "    </tr>\n",
       "    <tr>\n",
       "      <th>4</th>\n",
       "      <td>530255</td>\n",
       "      <td>1</td>\n",
       "      <td>2</td>\n",
       "      <td>37.30</td>\n",
       "      <td>104.0</td>\n",
       "      <td>35.0</td>\n",
       "      <td>7.4</td>\n",
       "      <td>2</td>\n",
       "    </tr>\n",
       "    <tr>\n",
       "      <th>5</th>\n",
       "      <td>528355</td>\n",
       "      <td>1</td>\n",
       "      <td>2</td>\n",
       "      <td>38.00</td>\n",
       "      <td>58.0</td>\n",
       "      <td>28.0</td>\n",
       "      <td>25.0</td>\n",
       "      <td>1</td>\n",
       "    </tr>\n",
       "    <tr>\n",
       "      <th>6</th>\n",
       "      <td>526802</td>\n",
       "      <td>1</td>\n",
       "      <td>1</td>\n",
       "      <td>37.90</td>\n",
       "      <td>48.0</td>\n",
       "      <td>16.0</td>\n",
       "      <td>7.0</td>\n",
       "      <td>1</td>\n",
       "    </tr>\n",
       "    <tr>\n",
       "      <th>7</th>\n",
       "      <td>529607</td>\n",
       "      <td>1</td>\n",
       "      <td>1</td>\n",
       "      <td>38.00</td>\n",
       "      <td>60.0</td>\n",
       "      <td>28.0</td>\n",
       "      <td>8.3</td>\n",
       "      <td>2</td>\n",
       "    </tr>\n",
       "    <tr>\n",
       "      <th>8</th>\n",
       "      <td>530051</td>\n",
       "      <td>1</td>\n",
       "      <td>2</td>\n",
       "      <td>38.00</td>\n",
       "      <td>80.0</td>\n",
       "      <td>36.0</td>\n",
       "      <td>6.2</td>\n",
       "      <td>3</td>\n",
       "    </tr>\n",
       "    <tr>\n",
       "      <th>9</th>\n",
       "      <td>5299629</td>\n",
       "      <td>2</td>\n",
       "      <td>2</td>\n",
       "      <td>38.30</td>\n",
       "      <td>90.0</td>\n",
       "      <td>55.0</td>\n",
       "      <td>6.2</td>\n",
       "      <td>1</td>\n",
       "    </tr>\n",
       "    <tr>\n",
       "      <th>10</th>\n",
       "      <td>528548</td>\n",
       "      <td>1</td>\n",
       "      <td>1</td>\n",
       "      <td>38.10</td>\n",
       "      <td>66.0</td>\n",
       "      <td>12.0</td>\n",
       "      <td>6.0</td>\n",
       "      <td>1</td>\n",
       "    </tr>\n",
       "    <tr>\n",
       "      <th>11</th>\n",
       "      <td>527927</td>\n",
       "      <td>1</td>\n",
       "      <td>2</td>\n",
       "      <td>39.10</td>\n",
       "      <td>72.0</td>\n",
       "      <td>52.0</td>\n",
       "      <td>7.8</td>\n",
       "      <td>1</td>\n",
       "    </tr>\n",
       "    <tr>\n",
       "      <th>12</th>\n",
       "      <td>528031</td>\n",
       "      <td>1</td>\n",
       "      <td>1</td>\n",
       "      <td>37.20</td>\n",
       "      <td>42.0</td>\n",
       "      <td>12.0</td>\n",
       "      <td>7.0</td>\n",
       "      <td>1</td>\n",
       "    </tr>\n",
       "    <tr>\n",
       "      <th>13</th>\n",
       "      <td>5291329</td>\n",
       "      <td>2</td>\n",
       "      <td>2</td>\n",
       "      <td>38.00</td>\n",
       "      <td>92.0</td>\n",
       "      <td>28.0</td>\n",
       "      <td>6.1</td>\n",
       "      <td>2</td>\n",
       "    </tr>\n",
       "    <tr>\n",
       "      <th>14</th>\n",
       "      <td>534917</td>\n",
       "      <td>1</td>\n",
       "      <td>1</td>\n",
       "      <td>38.2</td>\n",
       "      <td>76.0</td>\n",
       "      <td>28.0</td>\n",
       "      <td>81.0</td>\n",
       "      <td>1</td>\n",
       "    </tr>\n",
       "    <tr>\n",
       "      <th>15</th>\n",
       "      <td>530233</td>\n",
       "      <td>1</td>\n",
       "      <td>1</td>\n",
       "      <td>37.60</td>\n",
       "      <td>96.0</td>\n",
       "      <td>48.0</td>\n",
       "      <td>6.8</td>\n",
       "      <td>2</td>\n",
       "    </tr>\n",
       "    <tr>\n",
       "      <th>16</th>\n",
       "      <td>5301219</td>\n",
       "      <td>2</td>\n",
       "      <td>1</td>\n",
       "      <td>38.00</td>\n",
       "      <td>128.0</td>\n",
       "      <td>36.0</td>\n",
       "      <td>7.8</td>\n",
       "      <td>2</td>\n",
       "    </tr>\n",
       "    <tr>\n",
       "      <th>17</th>\n",
       "      <td>526639</td>\n",
       "      <td>1</td>\n",
       "      <td>2</td>\n",
       "      <td>37.50</td>\n",
       "      <td>48.0</td>\n",
       "      <td>24.0</td>\n",
       "      <td>25.0</td>\n",
       "      <td>1</td>\n",
       "    </tr>\n",
       "    <tr>\n",
       "      <th>18</th>\n",
       "      <td>5290481</td>\n",
       "      <td>1</td>\n",
       "      <td>1</td>\n",
       "      <td>37.60</td>\n",
       "      <td>64.0</td>\n",
       "      <td>21.0</td>\n",
       "      <td>7.0</td>\n",
       "      <td>1</td>\n",
       "    </tr>\n",
       "    <tr>\n",
       "      <th>19</th>\n",
       "      <td>532110</td>\n",
       "      <td>1</td>\n",
       "      <td>2</td>\n",
       "      <td>39.4</td>\n",
       "      <td>110.0</td>\n",
       "      <td>35.0</td>\n",
       "      <td>8.7</td>\n",
       "      <td>1</td>\n",
       "    </tr>\n",
       "  </tbody>\n",
       "</table>\n",
       "</div>"
      ],
      "text/plain": [
       "   Hospital Number Age surgery? rectal temperature  pulse  respiratory rate  \\\n",
       "0           530101   1        2              38.50   66.0              28.0   \n",
       "1           534817   1        1               39.2   88.0              20.0   \n",
       "2           530334   1        2              38.30   40.0              24.0   \n",
       "3          5290409   2        1              39.10  164.0              84.0   \n",
       "4           530255   1        2              37.30  104.0              35.0   \n",
       "5           528355   1        2              38.00   58.0              28.0   \n",
       "6           526802   1        1              37.90   48.0              16.0   \n",
       "7           529607   1        1              38.00   60.0              28.0   \n",
       "8           530051   1        2              38.00   80.0              36.0   \n",
       "9          5299629   2        2              38.30   90.0              55.0   \n",
       "10          528548   1        1              38.10   66.0              12.0   \n",
       "11          527927   1        2              39.10   72.0              52.0   \n",
       "12          528031   1        1              37.20   42.0              12.0   \n",
       "13         5291329   2        2              38.00   92.0              28.0   \n",
       "14          534917   1        1               38.2   76.0              28.0   \n",
       "15          530233   1        1              37.60   96.0              48.0   \n",
       "16         5301219   2        1              38.00  128.0              36.0   \n",
       "17          526639   1        2              37.50   48.0              24.0   \n",
       "18         5290481   1        1              37.60   64.0              21.0   \n",
       "19          532110   1        2               39.4  110.0              35.0   \n",
       "\n",
       "    total protein outcome  \n",
       "0             8.4       2  \n",
       "1            85.0       3  \n",
       "2             6.7       1  \n",
       "3             7.2       2  \n",
       "4             7.4       2  \n",
       "5            25.0       1  \n",
       "6             7.0       1  \n",
       "7             8.3       2  \n",
       "8             6.2       3  \n",
       "9             6.2       1  \n",
       "10            6.0       1  \n",
       "11            7.8       1  \n",
       "12            7.0       1  \n",
       "13            6.1       2  \n",
       "14           81.0       1  \n",
       "15            6.8       2  \n",
       "16            7.8       2  \n",
       "17           25.0       1  \n",
       "18            7.0       1  \n",
       "19            8.7       1  "
      ]
     },
     "execution_count": 52,
     "metadata": {},
     "output_type": "execute_result"
    }
   ],
   "source": [
    "data = df[['Hospital Number', 'Age', 'surgery?', 'rectal temperature', 'pulse', \n",
    "           'respiratory rate', 'total protein', 'outcome']]\n",
    "data.head(20)"
   ]
  }
 ],
 "metadata": {
  "kernelspec": {
   "display_name": "Python 3",
   "language": "python",
   "name": "python3"
  },
  "language_info": {
   "codemirror_mode": {
    "name": "ipython",
    "version": 3
   },
   "file_extension": ".py",
   "mimetype": "text/x-python",
   "name": "python",
   "nbconvert_exporter": "python",
   "pygments_lexer": "ipython3",
   "version": "3.8.5"
  }
 },
 "nbformat": 4,
 "nbformat_minor": 4
}
