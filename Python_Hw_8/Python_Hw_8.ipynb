{
 "cells": [
  {
   "cell_type": "markdown",
   "metadata": {},
   "source": [
    "# Регулярные выражения"
   ]
  },
  {
   "cell_type": "markdown",
   "metadata": {},
   "source": [
    "### Задание №1\n",
    "\n",
    "Напишите функцию, которая принимает на вход строку и проверяет является ли она валидным транспортным номером (1 буква, 3 цифры, 2 буквы, 2-3 цифры). Обратите внимание, что не все буквы кириллического алфавита используются в транспортных номерах.\n",
    "\n",
    "Если номер валиден, то функция должна возвращать отдельно номер и регион."
   ]
  },
  {
   "cell_type": "code",
   "execution_count": 34,
   "metadata": {},
   "outputs": [
    {
     "name": "stdout",
     "output_type": "stream",
     "text": [
      "Введите транспортный номер: А222ВС96\n",
      "Номер валиден!\n",
      "Номер: А222ВС Регион: 96\n"
     ]
    }
   ],
   "source": [
    "import re\n",
    "\n",
    "car_id = input('Введите транспортный номер: ')\n",
    "car_id_pattern = r'([АВЕКМНОРСТУХ]\\d{3}[АВЕКМНОРСТУХ]{2})(\\d{2,3})'\n",
    "result = re.findall(car_id_pattern, car_id)\n",
    "\n",
    "if result != []:\n",
    "    print('Номер валиден!')\n",
    "    print('Номер:', result[0][0], 'Регион:', result[0][1])\n",
    "elif result == []:\n",
    "    print('Номер не валиден!')"
   ]
  },
  {
   "cell_type": "markdown",
   "metadata": {},
   "source": [
    "### Задание №2\n",
    "\n",
    "Напишите функцию, которая будет удалять все последовательные повторы слов из заданной строки при помощи регулярных выражений."
   ]
  },
  {
   "cell_type": "code",
   "execution_count": 107,
   "metadata": {},
   "outputs": [
    {
     "data": {
      "text/plain": [
       "'Напишите функцию, которая будет удалять все последовательные повторы слов из заданной строки при помощи регулярных выражений'"
      ]
     },
     "execution_count": 107,
     "metadata": {},
     "output_type": "execute_result"
    }
   ],
   "source": [
    "import re\n",
    "\n",
    "some_string = 'Напишите функцию функцию, которая будет будет будет будет удалять все все все все последовательные повторы слов из из из из заданной строки строки при помощи регулярных выражений'\n",
    "re.sub(r'\\b([^\\W\\d_]+)(\\s+\\1)+\\b', r'\\1', some_string, flags=re.I)"
   ]
  },
  {
   "cell_type": "markdown",
   "metadata": {},
   "source": [
    "### Задание №3 \n",
    "\n",
    "Напишите функцию, которая будет возвращать акроним по переданной в нее строке со словами."
   ]
  },
  {
   "cell_type": "code",
   "execution_count": 77,
   "metadata": {},
   "outputs": [
    {
     "name": "stdout",
     "output_type": "stream",
     "text": [
      "Введите слова, из которых хотите получить акроним: Near Field Communication\n",
      "NFC\n"
     ]
    }
   ],
   "source": [
    "import re\n",
    "\n",
    "some_string = input('Введите слова, из которых хотите получить акроним: ')\n",
    "pattern = r'(?<!\\w)\\w'\n",
    "result = re.findall(pattern, some_string)\n",
    "\n",
    "print(''.join(result).upper())"
   ]
  },
  {
   "cell_type": "markdown",
   "metadata": {},
   "source": [
    "### Задание №4 \n",
    "\n",
    "Напишите функцию, которая будет принимать на вход список email-адресов и выводить их распределение по доменным зонам."
   ]
  },
  {
   "cell_type": "code",
   "execution_count": 85,
   "metadata": {},
   "outputs": [
    {
     "name": "stdout",
     "output_type": "stream",
     "text": [
      "gmail_com =  2\n",
      "test_in =  1\n",
      "ya_ru =  2\n",
      "mail_ru =  1\n"
     ]
    }
   ],
   "source": [
    "import re\n",
    "\n",
    "emails = ['test@gmail.com', 'xyz@test.in', 'test@ya.ru', 'xyz@mail.ru', 'xyz@ya.ru', 'xyz@gmail.com']\n",
    "\n",
    "gmail_com_pattern = r'\\S+@gmail.com'\n",
    "test_in_pattern = r'\\S+@test.in'\n",
    "ya_ru_pattern = r'\\S+@ya.ru'\n",
    "mail_ru_pattern = r'\\S+@mail.ru'\n",
    "\n",
    "gmail_com = 0\n",
    "test_in = 0\n",
    "ya_ru = 0\n",
    "mail_ru = 0\n",
    "\n",
    "for el in emails:\n",
    "    if re.findall(gmail_com_pattern, el):\n",
    "        gmail_com += 1\n",
    "    if re.findall(test_in_pattern, el):\n",
    "        test_in += 1\n",
    "    if re.findall(ya_ru_pattern, el):\n",
    "        ya_ru += 1\n",
    "    if re.findall(mail_ru_pattern, el):\n",
    "        mail_ru += 1\n",
    "        \n",
    "print('gmail_com = ', gmail_com)\n",
    "print('test_in = ', test_in)\n",
    "print('ya_ru = ', ya_ru)\n",
    "print('mail_ru = ', mail_ru)"
   ]
  },
  {
   "cell_type": "markdown",
   "metadata": {},
   "source": [
    "### Задание №5\n",
    "\n",
    "Напишите функцию, которая будет подсчитывать сколько слов начинается на гласные, а сколько на согласные буквы в тексте (текст может быть написан как с использованием букв кириллицы, так и латиницы)."
   ]
  },
  {
   "cell_type": "code",
   "execution_count": 123,
   "metadata": {},
   "outputs": [
    {
     "name": "stdout",
     "output_type": "stream",
     "text": [
      "Слов, начинающихся с гласной буквы:  9\n",
      "Слов, начинающихся с  согласной буквы:  21\n"
     ]
    }
   ],
   "source": [
    "some_text = 'Эталонной реализацией Python является интерпретатор CPython, поддерживающий большинство активно используемых платформ. Он распространяется под свободной лицензией Python Software Foundation License, позволяющей использовать его без ограничений в любых приложениях, включая проприетарные.'\n",
    "\n",
    "vowels = 0  #Гласные\n",
    "consonants = 0  #Согласные \n",
    "vowels_pattern = r'[АУЕЫОЭЁЯИЮAEIOUY]'\n",
    "consonants_pattern = r'[^АУЕЫОЭЁЯИЮAEIOUY]'\n",
    "some_text_list = some_text.replace(',', '').replace('.', '').split(' ')\n",
    "\n",
    "for word in some_text_list:\n",
    "    if re.match(vowels_pattern, word, flags=re.I):\n",
    "        vowels += 1 \n",
    "    if re.match(consonants_pattern, word, flags=re.I):\n",
    "        consonants += 1 \n",
    "print('Слов, начинающихся с гласной буквы: ', vowels)\n",
    "print('Слов, начинающихся с  согласной буквы: ', consonants)"
   ]
  },
  {
   "cell_type": "markdown",
   "metadata": {},
   "source": [
    "### Задание №6\n",
    "\n",
    "Напишите функцию, которая будет проверять номер сотового телефона на валидность, если он валиден, то переводить его в формат:\n",
    "+7-xxx-xxx-xx-xx"
   ]
  },
  {
   "cell_type": "code",
   "execution_count": 149,
   "metadata": {},
   "outputs": [
    {
     "name": "stdout",
     "output_type": "stream",
     "text": [
      "Введите номер телефона: +7-905-483-17-26   \n",
      "+7-905-483-17-26\n"
     ]
    }
   ],
   "source": [
    "num = input('Введите номер телефона: ')\n",
    "phone_num = num.replace(' ', '')\n",
    "\n",
    "pattern_1 = r'8(\\d{3})(\\d{3})(\\d{2})(\\d{2})'  #89054831726\n",
    "pattern_2 = r'\\+7(\\d{3})(\\d{3})(\\d{2})(\\d{2})'  #+79054831726\n",
    "pattern_3 = r'8\\((\\d{3})\\)(\\d{3})(\\d{2})(\\d{2})'   #8(905)4831726\n",
    "pattern_4 = r'8-(\\d{3})-(\\d{3})-(\\d{2})-(\\d{2})' #8-905-483-17-26\n",
    "pattern_5 = r'8(\\d{3})(\\d{3})-(\\d{2})-(\\d{2})' #8905483-17-26\n",
    "pattern_6 = r'8\\((\\d{3})\\)(\\d{3})-(\\d{2})-(\\d{2})' #8(905)483-17-26\n",
    "pattern_7 = r'\\+7-(\\d{3})-(\\d{3})-(\\d{2})-(\\d{2})' #+7-905-483-17-26\n",
    "\n",
    "if re.findall(pattern_1, phone_num):\n",
    "    print(re.sub(pattern_1, r'+7-\\1-\\2-\\3-\\4', phone_num)) \n",
    "    \n",
    "elif re.findall(pattern_2, phone_num):\n",
    "    print(re.sub(pattern_2, r'+7-\\1-\\2-\\3-\\4', phone_num))\n",
    "\n",
    "elif re.findall(pattern_3, phone_num):\n",
    "    print(re.sub(pattern_3, r'+7-\\1-\\2-\\3-\\4', phone_num))\n",
    "    \n",
    "elif re.findall(pattern_4, phone_num):\n",
    "    print(re.sub(pattern_4, r'+7-\\1-\\2-\\3-\\4', phone_num))\n",
    "    \n",
    "elif re.findall(pattern_5, phone_num):\n",
    "    print(re.sub(pattern_5, r'+7-\\1-\\2-\\3-\\4', phone_num))\n",
    "\n",
    "elif re.findall(pattern_6, phone_num):\n",
    "    print(re.sub(pattern_6, r'+7-\\1-\\2-\\3-\\4', phone_num))\n",
    "\n",
    "elif re.findall(pattern_7, phone_num):\n",
    "    print(phone_num)\n",
    "\n",
    "else:\n",
    "    print('Номер не валиден!')"
   ]
  }
 ],
 "metadata": {
  "kernelspec": {
   "display_name": "Python 3",
   "language": "python",
   "name": "python3"
  },
  "language_info": {
   "codemirror_mode": {
    "name": "ipython",
    "version": 3
   },
   "file_extension": ".py",
   "mimetype": "text/x-python",
   "name": "python",
   "nbconvert_exporter": "python",
   "pygments_lexer": "ipython3",
   "version": "3.8.5"
  }
 },
 "nbformat": 4,
 "nbformat_minor": 4
}
