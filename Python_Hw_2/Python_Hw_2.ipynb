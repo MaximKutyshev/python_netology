{
 "cells": [
  {
   "cell_type": "markdown",
   "metadata": {},
   "source": [
    "# «Управляющие конструкции и коллекции» часть 1\n",
    "\n",
    "### Задание №1\n",
    "\n",
    "Дана переменная, в которой хранится слово из латинских букв. Напишите код, который выводит на экран:\n",
    "\n",
    "среднюю букву, если число букв в слове нечетное;\n",
    "две средних буквы, если число букв четное."
   ]
  },
  {
   "cell_type": "code",
   "execution_count": 5,
   "metadata": {},
   "outputs": [
    {
     "name": "stdout",
     "output_type": "stream",
     "text": [
      "Введите слово testing\n",
      "t\n"
     ]
    }
   ],
   "source": [
    "word=input(\"Введите слово \")\n",
    "l=len(word)\n",
    "if l % 2 == 0:\n",
    "    ind=int(l / 2)\n",
    "    print(word[ind - 1], word[ind])\n",
    "elif l % 2 == 1:\n",
    "    ind= l // 2\n",
    "    print(word[ind])\n"
   ]
  },
  {
   "cell_type": "markdown",
   "metadata": {},
   "source": [
    "### Задание №2\n",
    "\n",
    "Напишите программу, которая последовательно запрашивает у пользователя числа (по одному за раз) и после первого нуля выводит сумму всех ранее введенных чисел.\n"
   ]
  },
  {
   "cell_type": "code",
   "execution_count": 2,
   "metadata": {},
   "outputs": [
    {
     "name": "stdout",
     "output_type": "stream",
     "text": [
      "Введите число 3\n",
      "Введите число 5\n",
      "Введите число 2\n",
      "Введите число 0\n",
      "Сумма введенных чисел -  10\n"
     ]
    }
   ],
   "source": [
    "summ=0\n",
    "x=int(input('Введите число '))\n",
    "while x != 0:\n",
    "    summ=summ + x\n",
    "    x=int(input('Введите число '))\n",
    "print('Сумма введенных чисел - ', summ)"
   ]
  },
  {
   "cell_type": "markdown",
   "metadata": {},
   "source": [
    "### Задание №3\n",
    "\n",
    "Мы делаем MVP dating-сервиса, и у нас есть список парней и девушек.\n",
    "Выдвигаем гипотезу: лучшие рекомендации мы получим, если просто отсортируем имена по алфавиту и познакомим людей с одинаковыми индексами после сортировки! Но мы не будем никого знакомить, если кто-то может остаться без пары."
   ]
  },
  {
   "cell_type": "code",
   "execution_count": 2,
   "metadata": {},
   "outputs": [
    {
     "name": "stdout",
     "output_type": "stream",
     "text": [
      "Идеальные пары:\n",
      "Aslan и Alina\n",
      "Dima и Elena\n",
      "Max и Nadya\n",
      "Vadim и Veronika\n"
     ]
    }
   ],
   "source": [
    "boys = ['Max' , 'Vadim', 'Dima', 'Aslan']\n",
    "girls = ['Veronika', 'Alina', 'Nadya', 'Elena']\n",
    "\n",
    "if len(boys) == len (girls):\n",
    "    boys_s=sorted(boys)\n",
    "    girls_s=sorted(girls)\n",
    "    print(\"Идеальные пары:\")\n",
    "    i = 0\n",
    "    while i < len(boys):\n",
    "        print (boys_s[i] + \" и \" + girls_s[i])\n",
    "        i += 1\n",
    "else:\n",
    "    print (\"Внимание! Кто-то может остаться без пары. Вы уверены, что это хороший ход?\")"
   ]
  },
  {
   "cell_type": "markdown",
   "metadata": {},
   "source": [
    "### Задание №4\n",
    "\n",
    "У нас есть список, содержащий информацию о среднедневной температуре в Фаренгейтах за произвольный период по странам (структура данных в примере). Необходимо написать код, который рассчитает среднюю температуру за период в Цельсиях(!) для каждой страны.\n",
    "\n"
   ]
  },
  {
   "cell_type": "code",
   "execution_count": 6,
   "metadata": {},
   "outputs": [
    {
     "name": "stdout",
     "output_type": "stream",
     "text": [
      "Средние температуры:\n",
      "Thailan-23.9°C\n",
      "Germany-13.8°C\n",
      "Russia-3.7°C\n",
      "Poland-12.0°C\n"
     ]
    }
   ],
   "source": [
    "countries_temperature = [['Thailan', [75.2, 77, 78.8, 73.4, 68, 75.2, 77]],\n",
    "['Germany', [57.2, 55.4, 59, 59, 53.6]],\n",
    "['Russia', [35.6, 37.4, 39.2, 41, 42.8, 39.2, 35.6]],\n",
    "['Poland', [50, 50, 53.6, 57.2, 55.4, 55.4]]]\n",
    "print(\"Средние температуры:\")\n",
    "for i in countries_temperature:\n",
    "    sum_f = 0\n",
    "    l=len(i[1])\n",
    "    for j in i[1]:\n",
    "        sum_f = sum_f + j\n",
    "    average_f = sum_f / l\n",
    "    average_c = (average_f - 32) * 5 / 9    \n",
    "    print(i[0] + \"-\" + str('%.1f'%average_c) + \"°C\")"
   ]
  },
  {
   "cell_type": "markdown",
   "metadata": {},
   "source": [
    "### Задание №5\n",
    "\n",
    "Дан поток логов по количеству просмотренных страниц для каждого пользователя. Вам необходимо написать алгоритм, который считает среднее значение просмотров на пользователя. Т. е. надо посчитать отношение суммы всех просмотров к количеству уникальных пользователей."
   ]
  },
  {
   "cell_type": "code",
   "execution_count": 1,
   "metadata": {},
   "outputs": [
    {
     "name": "stdout",
     "output_type": "stream",
     "text": [
      "Среднее количество просмотров на уникального пользователя: 23.25\n"
     ]
    }
   ],
   "source": [
    "stream = [\n",
    "'2018-01-01,user1,3',\n",
    "'2018-01-07,user1,4',\n",
    "'2018-03-29,user1,1',\n",
    "'2018-04-04,user1,13',\n",
    "'2018-01-05,user2,7',\n",
    "'2018-06-14,user3,4',\n",
    "'2018-07-02,user3,10',\n",
    "'2018-03-21,user4,19',\n",
    "'2018-03-22,user4,4',\n",
    "'2018-04-22,user4,8',\n",
    "'2018-05-03,user4,9',\n",
    "'2018-05-11,user4,11',\n",
    "]\n",
    "summ=0\n",
    "count=0\n",
    "unique_users=[]\n",
    "for i in stream:\n",
    "    list_stream=i.split(',') \n",
    "    summ=summ + int(list_stream[2])\n",
    "    if list_stream[1] not in unique_users:\n",
    "        unique_users.append(list_stream[1])\n",
    "        count += 1\n",
    "print(\"Среднее количество просмотров на уникального пользователя:\", \"%.2f\"%(summ/count))"
   ]
  },
  {
   "cell_type": "markdown",
   "metadata": {},
   "source": [
    "### Задание №6\n",
    "\n",
    "Необходимо у пользователя запрашивать набор чисел разделенных пробелом. В результате должны выводиться числа, которые повторяются в вводе более одного раза."
   ]
  },
  {
   "cell_type": "code",
   "execution_count": 3,
   "metadata": {},
   "outputs": [
    {
     "name": "stdout",
     "output_type": "stream",
     "text": [
      "Введите числовой ряд (числа записываются через пробел) 4 8 0 3 4 2 0 3\n",
      "0 3 4\n"
     ]
    }
   ],
   "source": [
    "number_series=input(\"Введите числовой ряд (числа записываются через пробел) \")\n",
    "numbers_list=number_series.split(\" \")\n",
    "new_list=[]\n",
    "for i in numbers_list:\n",
    "    count=numbers_list.count(i)\n",
    "    if count > 1 and i not in new_list:\n",
    "        new_list.append(i)\n",
    "s_new_list=sorted(new_list)\n",
    "new_series=\" \"\n",
    "print(new_series.join(s_new_list))\n"
   ]
  }
 ],
 "metadata": {
  "kernelspec": {
   "display_name": "Python 3",
   "language": "python",
   "name": "python3"
  },
  "language_info": {
   "codemirror_mode": {
    "name": "ipython",
    "version": 3
   },
   "file_extension": ".py",
   "mimetype": "text/x-python",
   "name": "python",
   "nbconvert_exporter": "python",
   "pygments_lexer": "ipython3",
   "version": "3.8.5"
  }
 },
 "nbformat": 4,
 "nbformat_minor": 4
}
