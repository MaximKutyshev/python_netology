{
 "cells": [
  {
   "cell_type": "code",
   "execution_count": 1,
   "metadata": {},
   "outputs": [],
   "source": [
    "documents = [\n",
    "{'type': 'passport', 'number': '2207 876234', 'name': 'Василий Гупкин'},\n",
    "{'type': 'invoice', 'number': '11-2', 'name': 'Геннадий Покемонов'},\n",
    "{'type': 'insurance', 'number': '10006', 'name': 'Аристарх Павлов'}\n",
    "]\n",
    "\n",
    "directories = {\n",
    "'1': ['2207 876234', '11-2'],\n",
    "'2': ['10006'],\n",
    "'3': []\n",
    "}"
   ]
  },
  {
   "cell_type": "code",
   "execution_count": 2,
   "metadata": {},
   "outputs": [],
   "source": [
    "def doc_num():\n",
    "    '''\n",
    "    Запрос номера документа.\n",
    "    '''\n",
    "    num = input('Введите номер документа: ')\n",
    "    return num"
   ]
  },
  {
   "cell_type": "code",
   "execution_count": 3,
   "metadata": {},
   "outputs": [],
   "source": [
    "def find_doc(num):\n",
    "    '''\n",
    "    Находит все данные документа по его номеру\n",
    "    '''\n",
    "    doc = 0\n",
    "    i = 0\n",
    "    for line in documents:\n",
    "        if line ['number'] == num:\n",
    "            doc = line\n",
    "            i+=1\n",
    "    if i != 0:\n",
    "        return doc\n",
    "    elif i == 0:\n",
    "        return False"
   ]
  },
  {
   "cell_type": "code",
   "execution_count": 4,
   "metadata": {},
   "outputs": [],
   "source": [
    "def doc(num):\n",
    "    '''\n",
    "    Функция которая находит документ, на полке\n",
    "    '''\n",
    "    i = 0\n",
    "    for number, shelf in directories.items():\n",
    "        for shelf_docs in shelf:\n",
    "            if shelf_docs == num:\n",
    "                ind = number\n",
    "                i += 1\n",
    "    if i == 1:\n",
    "        return ind\n",
    "    elif i == 0:\n",
    "        return False"
   ]
  },
  {
   "cell_type": "code",
   "execution_count": 5,
   "metadata": {},
   "outputs": [],
   "source": [
    "def list_shefls():\n",
    "    '''\n",
    "    Выдает текущий перечень полок\n",
    "    '''\n",
    "    print ('Текущий перечень полок:')\n",
    "    for shelf in directories.keys():\n",
    "        print(shelf, ' ', end = '')"
   ]
  },
  {
   "cell_type": "code",
   "execution_count": 6,
   "metadata": {},
   "outputs": [],
   "source": [
    "def check_shefls(shefl):\n",
    "    '''\n",
    "    Проверяет наличие полки\n",
    "    '''\n",
    "    if shefl in directories.keys():\n",
    "        return True\n",
    "    elif shefl not in directories.keys():\n",
    "        return False"
   ]
  },
  {
   "cell_type": "code",
   "execution_count": 7,
   "metadata": {},
   "outputs": [],
   "source": [
    "def check_docs(shefl):\n",
    "    '''\n",
    "    Проверяет наличие документов на полке, если пустая True\n",
    "    '''\n",
    "    if len(directories[shefl]) == 0:\n",
    "        return True\n",
    "    else:\n",
    "        return False"
   ]
  },
  {
   "cell_type": "markdown",
   "metadata": {},
   "source": [
    "### Задание №1.1"
   ]
  },
  {
   "cell_type": "code",
   "execution_count": 8,
   "metadata": {},
   "outputs": [],
   "source": [
    "def Find_owners_name():\n",
    "    '''\n",
    "    Запрашивает номер документа и по номеру документа определяет имя владельца\n",
    "    '''\n",
    "    num = doc_num()\n",
    "    line = find_doc(num)\n",
    "    if line != False:\n",
    "        print('Владелец документа:', line['name'])\n",
    "    elif line == 0:\n",
    "        print('Документ не найден в базе данных')"
   ]
  },
  {
   "cell_type": "markdown",
   "metadata": {},
   "source": [
    "### Задание №1.2"
   ]
  },
  {
   "cell_type": "code",
   "execution_count": 9,
   "metadata": {},
   "outputs": [],
   "source": [
    "def Find_shelf():\n",
    "    '''\n",
    "    По номеру документа определяет номер полки, на которой документ хранится\n",
    "    '''\n",
    "    num = str(doc_num())\n",
    "    if doc(num) != False:\n",
    "        print('Документ находится на полке №', doc(num))\n",
    "    elif doc(num) == False:\n",
    "        print('Документ не найден в базе данных.')"
   ]
  },
  {
   "cell_type": "markdown",
   "metadata": {},
   "source": [
    "### Задание №1.3"
   ]
  },
  {
   "cell_type": "code",
   "execution_count": 11,
   "metadata": {},
   "outputs": [],
   "source": [
    "def Receiving_information():\n",
    "    '''\n",
    "    Выдает текущий перечень документов\n",
    "    '''\n",
    "    for line in documents:\n",
    "        print('№:', line['number'], ',' , 'Тип:', line['type'], ',' , 'Владелец:', line['name'], ',', 'Номер полки:', doc(line['number']))\n",
    "                                                                                                                                "
   ]
  },
  {
   "cell_type": "markdown",
   "metadata": {},
   "source": [
    "### Задание №1.4"
   ]
  },
  {
   "cell_type": "code",
   "execution_count": 12,
   "metadata": {},
   "outputs": [],
   "source": [
    "def Add_shelf():\n",
    "    '''\n",
    "    Создает новую полку\n",
    "    '''\n",
    "    shefl = input('Введите номер новой полки')\n",
    "    if check_shefls(shefl) == True:\n",
    "        print('Такая полка уже существует.')\n",
    "    elif check_shefls(shefl) == False:\n",
    "        directories[shefl] = []\n",
    "        print('Полка добавлена')\n",
    "    list_shefls()"
   ]
  },
  {
   "cell_type": "markdown",
   "metadata": {},
   "source": [
    "### Задание №1.5"
   ]
  },
  {
   "cell_type": "code",
   "execution_count": 13,
   "metadata": {},
   "outputs": [],
   "source": [
    "def Delete_shelf():\n",
    "    '''\n",
    "    Удаляет полку, если она пустая\n",
    "    '''\n",
    "    shefl = input('Введите номер полки')\n",
    "    if check_shefls(shefl) == False:\n",
    "        print('Полка не существует')\n",
    "    elif check_shefls(shefl) == True:\n",
    "        if check_docs(shefl) == True:\n",
    "            del directories[shefl]\n",
    "            print('Полка удалена')\n",
    "        elif check_docs(shefl) == False:\n",
    "            print('На полке есть документы. Переместите сначала их.')\n",
    "    list_shefls()"
   ]
  },
  {
   "cell_type": "markdown",
   "metadata": {},
   "source": [
    "### Задание №2.1 "
   ]
  },
  {
   "cell_type": "code",
   "execution_count": 14,
   "metadata": {},
   "outputs": [],
   "source": [
    "def add_document():\n",
    "    '''\n",
    "    Добавляет документ в базу данных\n",
    "    '''\n",
    "    new_doc = {}\n",
    "    shefl = input('Введите номер  полки')\n",
    "    num = input('Введите номер документа: ') \n",
    "    type_doc = input('Введите тип документа: ')\n",
    "    name = input('Введите владельца документа: ')\n",
    "    if check_shefls(shefl) == False:\n",
    "        print('Полка не существует')\n",
    "    elif check_shefls(shefl) == True:\n",
    "        new_doc ['type'] = type_doc\n",
    "        new_doc ['number'] = num\n",
    "        new_doc ['name'] = name\n",
    "        documents.append(new_doc)\n",
    "        directories[shefl] += num\n",
    "        print('Текущий документ добавлен.')\n",
    "    Receiving_information()\n",
    "    print()\n",
    "    "
   ]
  },
  {
   "cell_type": "markdown",
   "metadata": {},
   "source": [
    "### Задание №2.2 "
   ]
  },
  {
   "cell_type": "code",
   "execution_count": 15,
   "metadata": {},
   "outputs": [],
   "source": [
    "def del_doc():\n",
    "    '''\n",
    "    Удаляет документ по его номеру\n",
    "    '''\n",
    "    num = str(doc_num())\n",
    "    if find_doc(num) == False:\n",
    "        print('Документа нет в базе данных')\n",
    "    else:\n",
    "        for elements in documents:\n",
    "            if elements['number'] == num:\n",
    "                documents.remove(elements)\n",
    "                for number, shelf in directories.items():\n",
    "                    for shelf_docs in shelf:\n",
    "                        if shelf_docs == num:\n",
    "                            shelf.remove(shelf_docs)\n",
    "    Receiving_information()"
   ]
  },
  {
   "cell_type": "markdown",
   "metadata": {},
   "source": [
    "### Задание №2.3"
   ]
  },
  {
   "cell_type": "code",
   "execution_count": 16,
   "metadata": {},
   "outputs": [],
   "source": [
    "def move_doc():\n",
    "    '''\n",
    "    Перемещает документ с полки на полку.\n",
    "    '''\n",
    "    num = str(doc_num())\n",
    "    shefl = input('На какую полку переместить?')\n",
    "    if find_doc(num) == False:\n",
    "        print('Документа нет в базе данных')\n",
    "    else:\n",
    "        if check_shefls(shefl) == False:\n",
    "            print(\"Такой полки нет\")\n",
    "        else:\n",
    "            ind = doc(num)\n",
    "            line = directories[ind]\n",
    "            line.remove(num)\n",
    "            list_shefl = directories[shefl]\n",
    "            list_shefl.append(num)\n",
    "    Receiving_information()"
   ]
  },
  {
   "cell_type": "markdown",
   "metadata": {},
   "source": [
    "### Функция main"
   ]
  },
  {
   "cell_type": "code",
   "execution_count": 26,
   "metadata": {},
   "outputs": [],
   "source": [
    "def main():\n",
    "    x = input('Выберите функцию ')\n",
    "    while x != 'q':\n",
    "        if x == 'p':\n",
    "            Find_owners_name()\n",
    "        elif x == 's':\n",
    "            Find_shelf()\n",
    "        elif x == 'l':\n",
    "            Receiving_information()\n",
    "        elif x == 'as':\n",
    "            Add_shelf()\n",
    "        elif x == 'ds':\n",
    "            Delete_shelf()\n",
    "        elif x == 'ad':\n",
    "            add_document()\n",
    "        elif x == 'd':\n",
    "            del_doc()\n",
    "        elif x == 'm':\n",
    "            move_doc()\n",
    "        x = input('Выберите функцию ')\n",
    "    print('Работа окончена')"
   ]
  },
  {
   "cell_type": "code",
   "execution_count": null,
   "metadata": {},
   "outputs": [],
   "source": [
    "main()"
   ]
  }
 ],
 "metadata": {
  "kernelspec": {
   "display_name": "Python 3",
   "language": "python",
   "name": "python3"
  },
  "language_info": {
   "codemirror_mode": {
    "name": "ipython",
    "version": 3
   },
   "file_extension": ".py",
   "mimetype": "text/x-python",
   "name": "python",
   "nbconvert_exporter": "python",
   "pygments_lexer": "ipython3",
   "version": "3.8.5"
  }
 },
 "nbformat": 4,
 "nbformat_minor": 4
}
