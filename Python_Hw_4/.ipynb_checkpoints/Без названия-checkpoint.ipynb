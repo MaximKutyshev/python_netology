{
 "cells": [
  {
   "cell_type": "code",
   "execution_count": 1,
   "metadata": {},
   "outputs": [],
   "source": [
    "def Find_owners_name():\n",
    "    numb = input ('Введите номер документа ')\n",
    "    amount = 0\n",
    "    for line in documents:\n",
    "        if line ['number'] == numb:\n",
    "            print ('Владелец документа:',line ['name'] )\n",
    "            amount += 1\n",
    "    if amount == 0: \n",
    "        print ('Документа с таким номером в базе не существует!')            "
   ]
  },
  {
   "cell_type": "code",
   "execution_count": 2,
   "metadata": {},
   "outputs": [],
   "source": [
    "def Find_shelf():\n",
    "    numb = input ('Введите номер документа ')\n",
    "    amount = 0\n",
    "    for number, shelf in directories.items():\n",
    "        for shelf_docs in shelf:\n",
    "            if shelf_docs == numb:\n",
    "                print ('Документ хранится на полке:',  number)\n",
    "                amount += 1\n",
    "                break\n",
    "    if amount == 0:   \n",
    "        print ('Документа с таким номером в базе не существует!')"
   ]
  },
  {
   "cell_type": "code",
   "execution_count": 3,
   "metadata": {},
   "outputs": [],
   "source": [
    "def Receiving_information():\n",
    "    print('Текущий перечень документов: ')\n",
    "    for line in documents:\n",
    "        print('№:', line['number'], ',' , 'Тип:', line['type'], ',' , 'Владелец:', line['name'], ',' )"
   ]
  },
  {
   "cell_type": "code",
   "execution_count": 4,
   "metadata": {},
   "outputs": [],
   "source": [
    "def Add_shelf():\n",
    "    numb_shelf = input('Введите номер новой полки ') \n",
    "    if numb_shelf not in directories:\n",
    "        directories[numb_shelf] = []\n",
    "    elif numb_shelf in directories:\n",
    "        print('Такая полка уже существует!')\n",
    "    list_shefls()"
   ]
  },
  {
   "cell_type": "code",
   "execution_count": 5,
   "metadata": {},
   "outputs": [],
   "source": [
    "def Delete_shelf():\n",
    "    numb_shelf = input('Введите номер новой полки ') \n",
    "    if len(directories[numb_shelf]) == 0:\n",
    "        del directories[numb_shelf]\n",
    "    else:\n",
    "        print('На полке находятся документы! Для удаления полки удалите или переместите документы.')\n",
    "    list_shefls()"
   ]
  },
  {
   "cell_type": "code",
   "execution_count": 6,
   "metadata": {},
   "outputs": [],
   "source": [
    "def list_shefls():\n",
    "    print ('Текущий перечень полок:')\n",
    "    for shelf in directories.keys():\n",
    "        print(shelf, ' ', end = '')"
   ]
  },
  {
   "cell_type": "code",
   "execution_count": 7,
   "metadata": {},
   "outputs": [],
   "source": [
    "def add_document():\n",
    "    new_doc = {}\n",
    "    num = input('Введите номер документа: ') \n",
    "    type_doc = input('Введите тип документа: ')\n",
    "    name = input('Введите владельца документа: ')\n",
    "    shefl = input('Введите номер полки: ')\n",
    "    if shefl in directories.keys():\n",
    "        new_doc ['type'] = type_doc\n",
    "        new_doc ['number'] = num\n",
    "        new_doc ['name'] = name\n",
    "        documents.append(new_doc)\n",
    "        directories[shefl] += num\n",
    "        print('Текущий документ добавлен.')\n",
    "    else:\n",
    "        print('Такой полки не существует. Добавьте полку командой \"as\" ')\n",
    "    Receiving_information()\n",
    "    "
   ]
  },
  {
   "cell_type": "code",
   "execution_count": null,
   "metadata": {},
   "outputs": [],
   "source": [
    "def del_doc():\n",
    "    num = input('Введите номер документа: ')\n",
    "    for el in documents:\n",
    "        print(el)\n",
    "        break"
   ]
  },
  {
   "cell_type": "code",
   "execution_count": 8,
   "metadata": {},
   "outputs": [],
   "source": [
    "documents = [\n",
    "{'type': 'passport', 'number': '2207 876234', 'name': 'Василий Гупкин'},\n",
    "{'type': 'invoice', 'number': '11-2', 'name': 'Геннадий Покемонов'},\n",
    "{'type': 'insurance', 'number': '10006', 'name': 'Аристарх Павлов'}\n",
    "]\n",
    "\n",
    "directories = {\n",
    "'1': ['2207 876234', '11-2'],\n",
    "'2': ['10006'],\n",
    "'3': []\n",
    "}\n"
   ]
  },
  {
   "cell_type": "code",
   "execution_count": 9,
   "metadata": {},
   "outputs": [],
   "source": [
    "def main():\n",
    "    x = input('Выберите функцию')\n",
    "    while x != 'q':\n",
    "        if x == 'p':\n",
    "            Find_owners_name()\n",
    "        elif x == 's':\n",
    "            Find_shelf()\n",
    "        elif x == 'l':\n",
    "            Receiving_information()\n",
    "        elif x == 'as':\n",
    "            Add_shelf()\n",
    "        elif x == 'ds':\n",
    "            Delete_shelf()\n",
    "        elif x == 'ad':\n",
    "            add_document()\n",
    "        x = input('Выберите функцию')"
   ]
  },
  {
   "cell_type": "code",
   "execution_count": null,
   "metadata": {},
   "outputs": [
    {
     "name": "stdout",
     "output_type": "stream",
     "text": [
      "Выберите функциюad\n",
      "Введите номер документа: 3424\n",
      "Введите тип документа: paasspport\n",
      "Введите владельца документа: Max\n",
      "Введите номер полки: 4\n",
      "Такой полки не существует. Добавьте полку командой \"as\" \n",
      "Текущий перечень документов: \n",
      "№: 2207 876234 , Тип: passport , Владелец: Василий Гупкин ,\n",
      "№: 11-2 , Тип: invoice , Владелец: Геннадий Покемонов ,\n",
      "№: 10006 , Тип: insurance , Владелец: Аристарх Павлов ,\n"
     ]
    }
   ],
   "source": [
    "main()"
   ]
  },
  {
   "cell_type": "code",
   "execution_count": null,
   "metadata": {},
   "outputs": [],
   "source": [
    "add_document()"
   ]
  },
  {
   "cell_type": "code",
   "execution_count": null,
   "metadata": {},
   "outputs": [],
   "source": [
    "del_doc()"
   ]
  },
  {
   "cell_type": "code",
   "execution_count": null,
   "metadata": {},
   "outputs": [],
   "source": []
  }
 ],
 "metadata": {
  "kernelspec": {
   "display_name": "Python 3",
   "language": "python",
   "name": "python3"
  },
  "language_info": {
   "codemirror_mode": {
    "name": "ipython",
    "version": 3
   },
   "file_extension": ".py",
   "mimetype": "text/x-python",
   "name": "python",
   "nbconvert_exporter": "python",
   "pygments_lexer": "ipython3",
   "version": "3.8.5"
  }
 },
 "nbformat": 4,
 "nbformat_minor": 4
}
