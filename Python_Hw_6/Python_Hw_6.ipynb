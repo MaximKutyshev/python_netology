{
 "cells": [
  {
   "cell_type": "markdown",
   "metadata": {},
   "source": [
    "# Исключения и обработка ошибок"
   ]
  },
  {
   "cell_type": "markdown",
   "metadata": {},
   "source": [
    "### Задание №1\n",
    "\n",
    "Печатные газеты использовали свой формат дат для каждого выпуска. Для каждой газеты из списка напишите формат указанной даты для перевода в объект datetime:\n",
    "The Moscow Times - Wednesday, October 2, 2002\n",
    "The Guardian - Friday, 11.10.13\n",
    "Daily News - Thursday, 18 August 1977"
   ]
  },
  {
   "cell_type": "code",
   "execution_count": 36,
   "metadata": {},
   "outputs": [
    {
     "name": "stdout",
     "output_type": "stream",
     "text": [
      "The Moscow Times\n",
      " Wednesday, October 2, 2002\n",
      "2002-10-02 00:00:00\n",
      "\n",
      "The Guardian\n",
      " Friday, 11.10.13\n",
      "2013-10-11 00:00:00\n",
      "\n",
      "Daily News\n",
      " Thursday, 18 August 1977\n",
      "1977-08-18 00:00:00\n"
     ]
    }
   ],
   "source": [
    "from datetime import datetime\n",
    "'''\n",
    "Перевод в datetime даты выпуска журнала The Moscow Times\n",
    "'''\n",
    "print('The Moscow Times')\n",
    "magazin_1 = 'The Moscow Times - Wednesday, October 2, 2002'\n",
    "list_magazin_1 = magazin_1.split('-')\n",
    "print(list_magazin_1[1])\n",
    "datetime_1 = datetime.strptime(list_magazin_1[1].strip(), '%A, %B %d, %Y')\n",
    "print(datetime_1)\n",
    "print()\n",
    "'''\n",
    "Перевод в datetime даты выпуска журнала The Guardian\n",
    "'''\n",
    "print('The Guardian')\n",
    "magazin_2 = 'The Guardian - Friday, 11.10.13'\n",
    "list_magazin_2 = magazin_2.split('-')\n",
    "print(list_magazin_2[1])\n",
    "datetime_2 = datetime.strptime(list_magazin_2[1].strip(), '%A, %d.%m.%y')\n",
    "print(datetime_2)\n",
    "print()\n",
    "'''\n",
    "Перевод в datetime даты выпуска журнала Daily News\n",
    "'''\n",
    "print('Daily News')\n",
    "magazin_3 = 'Daily News - Thursday, 18 August 1977'\n",
    "list_magazin_3 = magazin_3.split('-')\n",
    "print(list_magazin_3[1])\n",
    "datetime_3 = datetime.strptime(list_magazin_3[1].strip(), '%A, %d %B %Y')\n",
    "print(datetime_3)"
   ]
  },
  {
   "cell_type": "markdown",
   "metadata": {},
   "source": [
    "### Задание №2\n",
    "\n",
    "Дан поток дат в формате YYYY-MM-DD, в которых встречаются некорректные значения:\n",
    "stream = [‘2018-04-02’, ‘2018-02-29’, ‘2018-19-02’]\n",
    "\n",
    "Напишите функцию, которая проверяет эти даты на корректность. Т. е. для каждой даты возвращает True (дата корректна) или False (некорректная дата)"
   ]
  },
  {
   "cell_type": "code",
   "execution_count": 39,
   "metadata": {},
   "outputs": [
    {
     "name": "stdout",
     "output_type": "stream",
     "text": [
      "2018-04-02 00:00:00 True\n",
      "False\n",
      "False\n"
     ]
    }
   ],
   "source": [
    "stream = ['2018-04-02', '2018-02-29', '2018-19-02']\n",
    "for el in stream:\n",
    "    try:\n",
    "        date = datetime.strptime(el.strip(), '%Y-%m-%d')\n",
    "        print(date, True)\n",
    "    except:\n",
    "        print(False)"
   ]
  },
  {
   "cell_type": "markdown",
   "metadata": {},
   "source": [
    "### Задание №3\n",
    "\n",
    "Напишите функцию date_range, которая возвращает список дат за период от start_date до end_date. Даты должны вводиться в формате YYYY-MM-DD. В случае неверного формата или при start_date > end_date должен возвращаться пустой список."
   ]
  },
  {
   "cell_type": "code",
   "execution_count": 61,
   "metadata": {},
   "outputs": [],
   "source": [
    "from datetime import timedelta\n",
    "def date_range():\n",
    "    print('Введите дату в формате YYYY-MM-DD')\n",
    "    list_date = []\n",
    "    try:\n",
    "        start_date = input('Введите начальную дату')\n",
    "        end_date = input('Введите конечную дату')\n",
    "        start_date_dt = datetime.strptime(start_date,'%Y-%m-%d')\n",
    "        end_date_dt = datetime.strptime(end_date,'%Y-%m-%d')\n",
    "        while start_date_dt <= end_date_dt:\n",
    "            list_date.append(start_date_dt)\n",
    "            start_date_dt += timedelta(days = 1)\n",
    "        print(list_date) \n",
    "    except:    \n",
    "        print(list_date) "
   ]
  },
  {
   "cell_type": "code",
   "execution_count": 64,
   "metadata": {},
   "outputs": [
    {
     "name": "stdout",
     "output_type": "stream",
     "text": [
      "Введите дату в формате YYYY-MM-DD\n",
      "Введите начальную дату2021-01-01\n",
      "Введите конечную дату2020-02-01\n",
      "[]\n"
     ]
    }
   ],
   "source": [
    "date_range()"
   ]
  },
  {
   "cell_type": "markdown",
   "metadata": {},
   "source": [
    "### Задание №4\n",
    "\n",
    "Ваш коллега прислал код функции:\n",
    "\n"
   ]
  },
  {
   "cell_type": "markdown",
   "metadata": {},
   "source": [
    "1) list index out of range - ошибка возникает когда значение индекса выходит за реальные границы списка. Поэтому не рекомендуется во время перебора списка в цикле этот цикл изменять.\n",
    "\n",
    "2) Значение в списке с индексом (DEFAULT_USER_COUNT-2) = 1, после второго вызова функции уже удалено, поэтому возникает ошибка. Т,к индексация вне диапазона списка."
   ]
  },
  {
   "cell_type": "code",
   "execution_count": 109,
   "metadata": {},
   "outputs": [],
   "source": [
    "DEFAULT_USER_COUNT = 3\n",
    "def delete_and_return_last_user(region, default_list=['A100', 'A101', 'A102']):\n",
    "    '''\n",
    "Удаляет из списка default_list последнего пользователя\n",
    "и возвращает ID нового последнего пользователя.\n",
    "'''\n",
    "    element_to_delete = default_list[-1]\n",
    "    default_list.remove(element_to_delete)\n",
    "    #return default_list[DEFAULT_USER_COUNT-2]\n",
    "    return default_list[-1]"
   ]
  },
  {
   "cell_type": "code",
   "execution_count": 110,
   "metadata": {},
   "outputs": [
    {
     "data": {
      "text/plain": [
       "'A101'"
      ]
     },
     "execution_count": 110,
     "metadata": {},
     "output_type": "execute_result"
    }
   ],
   "source": [
    "delete_and_return_last_user(1)"
   ]
  },
  {
   "cell_type": "code",
   "execution_count": 111,
   "metadata": {},
   "outputs": [
    {
     "data": {
      "text/plain": [
       "'A100'"
      ]
     },
     "execution_count": 111,
     "metadata": {},
     "output_type": "execute_result"
    }
   ],
   "source": [
    "delete_and_return_last_user(1)"
   ]
  },
  {
   "cell_type": "code",
   "execution_count": null,
   "metadata": {},
   "outputs": [],
   "source": []
  }
 ],
 "metadata": {
  "kernelspec": {
   "display_name": "Python 3",
   "language": "python",
   "name": "python3"
  },
  "language_info": {
   "codemirror_mode": {
    "name": "ipython",
    "version": 3
   },
   "file_extension": ".py",
   "mimetype": "text/x-python",
   "name": "python",
   "nbconvert_exporter": "python",
   "pygments_lexer": "ipython3",
   "version": "3.8.5"
  }
 },
 "nbformat": 4,
 "nbformat_minor": 4
}
